{
  "nbformat": 4,
  "nbformat_minor": 0,
  "metadata": {
    "colab": {
      "provenance": []
    },
    "kernelspec": {
      "name": "python3",
      "display_name": "Python 3"
    },
    "language_info": {
      "name": "python"
    }
  },
  "cells": [
    {
      "cell_type": "markdown",
      "source": [
        "# Test 1 B\n",
        "\n",
        "UAI502 Computational Intelligence\n",
        "\n"
      ],
      "metadata": {
        "id": "F2CYkx5Ujawx"
      }
    },
    {
      "cell_type": "markdown",
      "source": [
        "## Task 1 (5 points)\n",
        "\n",
        "Normalize features of a dataset by z-score normalization ($z=\\frac{x-\\mu}{\\sigma}$). The dataset is as given as a numpy array. Calculate mean and standard deviation for each column.\n",
        "\n",
        "Expected results\n",
        "*   Print mean for all columns\n",
        "*   Print standard deviation for all columns\n",
        "*   Print transformed features\n"
      ],
      "metadata": {
        "id": "vrAs-WjvjwJj"
      }
    },
    {
      "cell_type": "code",
      "source": [
        "import numpy as np\n",
        "features = np.array([\n",
        "    [5.1, 3.5, 1.4, 0.2, 4.7, 3.2, 1.6, 0.2],\n",
        "    [4.9, 3.0, 1.4, 0.2, 5.4, 3.4, 1.5, 0.4],\n",
        "    [4.7, 3.2, 1.3, 0.2, 5.2, 4.1, 1.5, 0.1],\n",
        "    [4.6, 3.1, 1.5, 0.2, 4.9, 3.1, 1.5, 0.1],\n",
        "    [5.0, 3.6, 1.4, 0.2, 4.4, 3.2, 1.3, 0.2],\n",
        "    [5.4, 3.9, 1.7, 0.4, 5.0, 3.5, 1.6, 0.6],\n",
        "    [4.6, 3.4, 1.4, 0.3, 4.5, 2.3, 1.3, 0.3],\n",
        "    [5.0, 3.4, 1.5, 0.2, 5.1, 3.8, 1.9, 0.4],\n",
        "    [4.4, 2.9, 1.4, 0.2, 5.0, 3.5, 1.6, 0.6],\n",
        "    [4.9, 3.1, 1.5, 0.1, 0.4, 0.1, 5.0, 3.5]\n",
        "])\n",
        "\n",
        "mean_features= np.mean(features, axis=0)\n",
        "print(\"Mean of all columns:\",mean_features)\n",
        "\n",
        "std_features= np.std(features, axis=0)\n",
        "print(\"standard deviation of all colummns:\",std_features)\n",
        "\n",
        "normalized_features= (features- mean_features)/std_features\n",
        "print(\"Transformed features:\",normalized_features)\n",
        "\n",
        "# write your code here"
      ],
      "metadata": {
        "id": "JXzX5Tjuj63W",
        "colab": {
          "base_uri": "https://localhost:8080/"
        },
        "outputId": "e9b8cfaf-28b3-4256-b188-453a33447643"
      },
      "execution_count": 76,
      "outputs": [
        {
          "output_type": "stream",
          "name": "stdout",
          "text": [
            "Mean of all columns: [4.86 3.31 1.45 0.22 4.46 3.02 1.88 0.64]\n",
            "standard deviation of all colummns: [0.2764055  0.29137605 0.10246951 0.07483315 1.384341   1.07219401\n",
            " 1.05242577 0.96871048]\n",
            "Transformed features: [[ 0.86828953  0.65207831 -0.48795004 -0.26726124  0.17336769  0.16788006\n",
            "  -0.26605202 -0.45421208]\n",
            " [ 0.14471492 -1.06391725 -0.48795004 -0.26726124  0.67902345  0.35441347\n",
            "  -0.3610706  -0.24775204]\n",
            " [-0.57885968 -0.37751902 -1.46385011 -0.26726124  0.53455038  1.00728039\n",
            "  -0.3610706  -0.55744209]\n",
            " [-0.94064699 -0.72071813  0.48795004 -0.26726124  0.31784076  0.07461336\n",
            "  -0.3610706  -0.55744209]\n",
            " [ 0.50650222  0.99527742 -0.48795004 -0.26726124 -0.04334192  0.16788006\n",
            "  -0.55110775 -0.45421208]\n",
            " [ 1.95365143  2.02487476  2.43975018  2.40535118  0.3900773   0.44768017\n",
            "  -0.26605202 -0.04129201]\n",
            " [-0.94064699  0.3088792  -0.48795004  1.06904497  0.02889461 -0.67152026\n",
            "  -0.55110775 -0.35098206]\n",
            " [ 0.50650222  0.3088792   0.48795004 -0.26726124  0.46231384  0.72748028\n",
            "   0.01900372 -0.24775204]\n",
            " [-1.66422159 -1.40711636 -0.48795004 -0.26726124  0.3900773   0.44768017\n",
            "  -0.26605202 -0.04129201]\n",
            " [ 0.14471492 -0.72071813  0.48795004 -1.60356745 -2.93280341 -2.72338771\n",
            "   2.96457963  2.9523785 ]]\n"
          ]
        }
      ]
    },
    {
      "cell_type": "code",
      "source": [],
      "metadata": {
        "id": "SSHXHr18_ssP"
      },
      "execution_count": null,
      "outputs": []
    },
    {
      "cell_type": "markdown",
      "source": [
        "## Task 2 (5 points)\n",
        "\n",
        "Draw graf the $f(x)=x^2+2x+x$ function in the domain range of $x\\in<-2,2>$. Use the matplotlib library.\n",
        "\n",
        "Expected results:\n",
        "*   Define the $f(x)$ function,\n",
        "*   Draw graph of the $f(x)$ function\n",
        "*   Print function value for $x=-1$ and $x=1$\n"
      ],
      "metadata": {
        "id": "g0vA6_gDqyu_"
      }
    },
    {
      "cell_type": "code",
      "source": [
        "# write you code here\n",
        "import matplotlib.pyplot as plt\n",
        "\n",
        "def f(x):\n",
        "  return x**2+2*x+x\n",
        "\n",
        "x= np.linspace(-2,2,100)\n",
        "y=f(x)\n",
        "plt.plot(figsize=(5,5))\n",
        "plt.plot(x,y)\n",
        "plt.xlabel('x')\n",
        "plt.ylabel('y=f(x)')\n",
        "plt.title('Graph of f(x)')\n",
        "plt.show()\n",
        "\n",
        "\n",
        "#function value for x=-1 and 1\n",
        "\n",
        "print(\"value of f(-1) is:\",f(-1))\n",
        "print(\"value of f(1) is:\",f(1))"
      ],
      "metadata": {
        "id": "0ToDMRRQoZA0",
        "colab": {
          "base_uri": "https://localhost:8080/",
          "height": 508
        },
        "outputId": "29f2079c-1270-429f-e616-ba6bd426bf73"
      },
      "execution_count": 8,
      "outputs": [
        {
          "output_type": "display_data",
          "data": {
            "text/plain": [
              "<Figure size 640x480 with 1 Axes>"
            ],
            "image/png": "[encoded data removed]"
          },
          "metadata": {}
        },
        {
          "output_type": "stream",
          "name": "stdout",
          "text": [
            "value of f(-1) is: -2\n",
            "value of f(1) is: 4\n"
          ]
        }
      ]
    },
    {
      "cell_type": "markdown",
      "source": [
        "## Task 3 (5 points)\n",
        "\n",
        "Draw scatter plot of data given.\n",
        "\n",
        "\n"
      ],
      "metadata": {
        "id": "4T4uVFMvr_Cp"
      }
    },
    {
      "cell_type": "code",
      "source": [
        "import numpy as np\n",
        "features = np.array([\n",
        " [1.6, 0.2],\n",
        " [1.5, 0.4],\n",
        " [1.6, 0.1],\n",
        " [1.5, 0.1],\n",
        " [1.3, 0.2],\n",
        " [1.6, 0.6],\n",
        " [1.3, 0.3],\n",
        " [1.9, 0.4],\n",
        " [1.6, 0.6],\n",
        " [5.0, 3.5]\n",
        "])\n",
        "x=features[:,:1]\n",
        "#print(x)\n",
        "y=features[:,1:]\n",
        "#print(y)\n",
        "plt.figure(figsize=(5,5))\n",
        "plt.scatter(x,y)\n",
        "plt.xlabel('x')\n",
        "plt.ylabel('y')\n",
        "plt.title('scatterplot of numpy array')\n",
        "\n",
        "plt.show()\n",
        "# write you code here"
      ],
      "metadata": {
        "id": "dohl9usKruaZ",
        "colab": {
          "base_uri": "https://localhost:8080/",
          "height": 487
        },
        "outputId": "51f1b4f2-f7ef-401d-dd61-b8f9e038600d"
      },
      "execution_count": 77,
      "outputs": [
        {
          "output_type": "display_data",
          "data": {
            "text/plain": [
              "<Figure size 500x500 with 1 Axes>"
            ],
            "image/png": "[encoded data removed]"
          },
          "metadata": {}
        }
      ]
    },
    {
      "cell_type": "markdown",
      "source": [
        "## Task 4 (12 points)\n",
        "\n",
        "Download the datasets (train and test) from the Elearning (below the task notebook). Upload it to Colab runtime or Google drive and load it as csv files. The dataset contains a grayscale images (8x8 pixels) in the first 64 columns. Reshape it with the numpy.reshape function to the shape of Nx8x8x1. N is length of the dataset. Last column (index 64) is a category in the range of $<0,3>$. Encode this column by the one-hot encoding.\n",
        "\n",
        "Create convolution network hawing 2D convolution layer with relu activation, five filters, and kernel size 5x5. This layer will be followed by Maxpooling 2D (default parameters) layer, Flatten layer, and Dense layer with softmax activation. The first layer of the model will be Input(shape=(8,8,1)). Number of outputs of the Dense layer will be equal to 4.\n",
        "\n",
        "Learn the network with optimizer Adam, loss function categorical_crossentropy, and metrics is accuracy for 20 epochs and batch size 30.\n"
      ],
      "metadata": {
        "id": "T4WFsROkuQpl"
      }
    },
    {
      "cell_type": "code",
      "source": [
        "import pandas as pd\n",
        "import tensorflow as tf\n",
        "from sklearn.model_selection import train_test_split\n",
        "from sklearn.preprocessing import StandardScaler\n",
        "from sklearn.metrics import accuracy_score\n"
      ],
      "metadata": {
        "id": "XpoAlEg1EJbV"
      },
      "execution_count": 36,
      "outputs": []
    },
    {
      "cell_type": "code",
      "source": [
        "# write your code here"
      ],
      "metadata": {
        "id": "84YbgMBQ7U18"
      },
      "execution_count": null,
      "outputs": []
    },
    {
      "cell_type": "code",
      "source": [
        "from google.colab import drive\n",
        "drive.mount('/content/drive')\n",
        "df= pd.read_csv('train_1.csv')\n"
      ],
      "metadata": {
        "colab": {
          "base_uri": "https://localhost:8080/"
        },
        "id": "FNe0XHZvG6zY",
        "outputId": "1268b4cd-c31d-4a22-9831-ea3d867747f6"
      },
      "execution_count": 37,
      "outputs": [
        {
          "output_type": "stream",
          "name": "stdout",
          "text": [
            "Drive already mounted at /content/drive; to attempt to forcibly remount, call drive.mount(\"/content/drive\", force_remount=True).\n"
          ]
        }
      ]
    },
    {
      "cell_type": "code",
      "source": [
        "num_array= df.to_numpy()\n",
        "X= num_array[:,:-1] #features\n",
        "y= num_array[:,-1]\n",
        "print(X)\n",
        "print(y)"
      ],
      "metadata": {
        "colab": {
          "base_uri": "https://localhost:8080/"
        },
        "id": "GMyOEnh8_uoP",
        "outputId": "6f8816d1-0890-4224-ee2a-cf74aeb14fa6"
      },
      "execution_count": 44,
      "outputs": [
        {
          "output_type": "stream",
          "name": "stdout",
          "text": [
            "[[0.     0.     0.625  ... 0.1875 0.     0.    ]\n",
            " [0.     0.     0.6875 ... 1.     1.     0.375 ]\n",
            " [0.     0.     0.9375 ... 0.     0.     0.    ]\n",
            " ...\n",
            " [0.     0.     0.25   ... 0.6875 0.0625 0.    ]\n",
            " [0.     0.     0.     ... 0.6875 0.     0.    ]\n",
            " [0.     0.0625 0.625  ... 0.3125 0.     0.    ]]\n",
            "[0. 2. 0. ... 1. 1. 3.]\n"
          ]
        }
      ]
    },
    {
      "cell_type": "code",
      "source": [
        "X_train, X_test, y_train, y_test= train_test_split(X,y,test_size=0.2, random_state=42)"
      ],
      "metadata": {
        "id": "ZKRZl7BqKHQF"
      },
      "execution_count": 46,
      "outputs": []
    },
    {
      "cell_type": "code",
      "source": [
        "scaler=StandardScaler()\n",
        "X_train= scaler.fit_transform(X_train)\n",
        "X_test=scaler.transform(X_test)"
      ],
      "metadata": {
        "id": "Tf6_kppHJk7X"
      },
      "execution_count": 47,
      "outputs": []
    },
    {
      "cell_type": "code",
      "source": [
        "model=tf.keras.Sequential([tf.keras.layers.Dense(64, activation='relu', input_shape=(X_train.shape[1],)),tf.keras.layers.Dense(32,activation='relu'), tf.keras.layers.MaxPool1D(2,2), tf.keras.layers.Dense(4, activation='softmax')])"
      ],
      "metadata": {
        "colab": {
          "base_uri": "https://localhost:8080/",
          "height": 346
        },
        "id": "ZLuwjHQjKY-E",
        "outputId": "290d4dda-96d3-4352-f66d-5cab91d9eab2"
      },
      "execution_count": 74,
      "outputs": [
        {
          "output_type": "error",
          "ename": "ValueError",
          "evalue": "ignored",
          "traceback": [
            "\u001b[0;31m---------------------------------------------------------------------------\u001b[0m",
            "\u001b[0;31mValueError\u001b[0m                                Traceback (most recent call last)",
            "\u001b[0;32m<ipython-input-74-a813f8706ae1>\u001b[0m in \u001b[0;36m<cell line: 1>\u001b[0;34m()\u001b[0m\n\u001b[0;32m----> 1\u001b[0;31m \u001b[0mmodel\u001b[0m\u001b[0;34m=\u001b[0m\u001b[0mtf\u001b[0m\u001b[0;34m.\u001b[0m\u001b[0mkeras\u001b[0m\u001b[0;34m.\u001b[0m\u001b[0mSequential\u001b[0m\u001b[0;34m(\u001b[0m\u001b[0;34m[\u001b[0m\u001b[0mtf\u001b[0m\u001b[0;34m.\u001b[0m\u001b[0mkeras\u001b[0m\u001b[0;34m.\u001b[0m\u001b[0mlayers\u001b[0m\u001b[0;34m.\u001b[0m\u001b[0mDense\u001b[0m\u001b[0;34m(\u001b[0m\u001b[0;36m64\u001b[0m\u001b[0;34m,\u001b[0m \u001b[0mactivation\u001b[0m\u001b[0;34m=\u001b[0m\u001b[0;34m'relu'\u001b[0m\u001b[0;34m,\u001b[0m \u001b[0minput_shape\u001b[0m\u001b[0;34m=\u001b[0m\u001b[0;34m(\u001b[0m\u001b[0mX_train\u001b[0m\u001b[0;34m.\u001b[0m\u001b[0mshape\u001b[0m\u001b[0;34m[\u001b[0m\u001b[0;36m1\u001b[0m\u001b[0;34m]\u001b[0m\u001b[0;34m,\u001b[0m\u001b[0;34m)\u001b[0m\u001b[0;34m)\u001b[0m\u001b[0;34m,\u001b[0m\u001b[0mtf\u001b[0m\u001b[0;34m.\u001b[0m\u001b[0mkeras\u001b[0m\u001b[0;34m.\u001b[0m\u001b[0mlayers\u001b[0m\u001b[0;34m.\u001b[0m\u001b[0mDense\u001b[0m\u001b[0;34m(\u001b[0m\u001b[0;36m32\u001b[0m\u001b[0;34m,\u001b[0m\u001b[0mactivation\u001b[0m\u001b[0;34m=\u001b[0m\u001b[0;34m'relu'\u001b[0m\u001b[0;34m)\u001b[0m\u001b[0;34m,\u001b[0m \u001b[0mtf\u001b[0m\u001b[0;34m.\u001b[0m\u001b[0mkeras\u001b[0m\u001b[0;34m.\u001b[0m\u001b[0mlayers\u001b[0m\u001b[0;34m.\u001b[0m\u001b[0mMaxPool1D\u001b[0m\u001b[0;34m(\u001b[0m\u001b[0;36m2\u001b[0m\u001b[0;34m,\u001b[0m\u001b[0;36m2\u001b[0m\u001b[0;34m)\u001b[0m\u001b[0;34m,\u001b[0m \u001b[0mtf\u001b[0m\u001b[0;34m.\u001b[0m\u001b[0mkeras\u001b[0m\u001b[0;34m.\u001b[0m\u001b[0mlayers\u001b[0m\u001b[0;34m.\u001b[0m\u001b[0mDense\u001b[0m\u001b[0;34m(\u001b[0m\u001b[0;36m4\u001b[0m\u001b[0;34m,\u001b[0m \u001b[0mactivation\u001b[0m\u001b[0;34m=\u001b[0m\u001b[0;34m'softmax'\u001b[0m\u001b[0;34m)\u001b[0m\u001b[0;34m]\u001b[0m\u001b[0;34m)\u001b[0m\u001b[0;34m\u001b[0m\u001b[0;34m\u001b[0m\u001b[0m\n\u001b[0m",
            "\u001b[0;32m/usr/local/lib/python3.10/dist-packages/tensorflow/python/trackable/base.py\u001b[0m in \u001b[0;36m_method_wrapper\u001b[0;34m(self, *args, **kwargs)\u001b[0m\n\u001b[1;32m    202\u001b[0m     \u001b[0mself\u001b[0m\u001b[0;34m.\u001b[0m\u001b[0m_self_setattr_tracking\u001b[0m \u001b[0;34m=\u001b[0m \u001b[0;32mFalse\u001b[0m  \u001b[0;31m# pylint: disable=protected-access\u001b[0m\u001b[0;34m\u001b[0m\u001b[0;34m\u001b[0m\u001b[0m\n\u001b[1;32m    203\u001b[0m     \u001b[0;32mtry\u001b[0m\u001b[0;34m:\u001b[0m\u001b[0;34m\u001b[0m\u001b[0;34m\u001b[0m\u001b[0m\n\u001b[0;32m--> 204\u001b[0;31m       \u001b[0mresult\u001b[0m \u001b[0;34m=\u001b[0m \u001b[0mmethod\u001b[0m\u001b[0;34m(\u001b[0m\u001b[0mself\u001b[0m\u001b[0;34m,\u001b[0m \u001b[0;34m*\u001b[0m\u001b[0margs\u001b[0m\u001b[0;34m,\u001b[0m \u001b[0;34m**\u001b[0m\u001b[0mkwargs\u001b[0m\u001b[0;34m)\u001b[0m\u001b[0;34m\u001b[0m\u001b[0;34m\u001b[0m\u001b[0m\n\u001b[0m\u001b[1;32m    205\u001b[0m     \u001b[0;32mfinally\u001b[0m\u001b[0;34m:\u001b[0m\u001b[0;34m\u001b[0m\u001b[0;34m\u001b[0m\u001b[0m\n\u001b[1;32m    206\u001b[0m       \u001b[0mself\u001b[0m\u001b[0;34m.\u001b[0m\u001b[0m_self_setattr_tracking\u001b[0m \u001b[0;34m=\u001b[0m \u001b[0mprevious_value\u001b[0m  \u001b[0;31m# pylint: disable=protected-access\u001b[0m\u001b[0;34m\u001b[0m\u001b[0;34m\u001b[0m\u001b[0m\n",
            "\u001b[0;32m/usr/local/lib/python3.10/dist-packages/keras/src/utils/traceback_utils.py\u001b[0m in \u001b[0;36merror_handler\u001b[0;34m(*args, **kwargs)\u001b[0m\n\u001b[1;32m     68\u001b[0m             \u001b[0;31m# To get the full stack trace, call:\u001b[0m\u001b[0;34m\u001b[0m\u001b[0;34m\u001b[0m\u001b[0m\n\u001b[1;32m     69\u001b[0m             \u001b[0;31m# `tf.debugging.disable_traceback_filtering()`\u001b[0m\u001b[0;34m\u001b[0m\u001b[0;34m\u001b[0m\u001b[0m\n\u001b[0;32m---> 70\u001b[0;31m             \u001b[0;32mraise\u001b[0m \u001b[0me\u001b[0m\u001b[0;34m.\u001b[0m\u001b[0mwith_traceback\u001b[0m\u001b[0;34m(\u001b[0m\u001b[0mfiltered_tb\u001b[0m\u001b[0;34m)\u001b[0m \u001b[0;32mfrom\u001b[0m \u001b[0;32mNone\u001b[0m\u001b[0;34m\u001b[0m\u001b[0;34m\u001b[0m\u001b[0m\n\u001b[0m\u001b[1;32m     71\u001b[0m         \u001b[0;32mfinally\u001b[0m\u001b[0;34m:\u001b[0m\u001b[0;34m\u001b[0m\u001b[0;34m\u001b[0m\u001b[0m\n\u001b[1;32m     72\u001b[0m             \u001b[0;32mdel\u001b[0m \u001b[0mfiltered_tb\u001b[0m\u001b[0;34m\u001b[0m\u001b[0;34m\u001b[0m\u001b[0m\n",
            "\u001b[0;32m/usr/local/lib/python3.10/dist-packages/keras/src/engine/input_spec.py\u001b[0m in \u001b[0;36massert_input_compatibility\u001b[0;34m(input_spec, inputs, layer_name)\u001b[0m\n\u001b[1;32m    233\u001b[0m             \u001b[0mndim\u001b[0m \u001b[0;34m=\u001b[0m \u001b[0mshape\u001b[0m\u001b[0;34m.\u001b[0m\u001b[0mrank\u001b[0m\u001b[0;34m\u001b[0m\u001b[0;34m\u001b[0m\u001b[0m\n\u001b[1;32m    234\u001b[0m             \u001b[0;32mif\u001b[0m \u001b[0mndim\u001b[0m \u001b[0;34m!=\u001b[0m \u001b[0mspec\u001b[0m\u001b[0;34m.\u001b[0m\u001b[0mndim\u001b[0m\u001b[0;34m:\u001b[0m\u001b[0;34m\u001b[0m\u001b[0;34m\u001b[0m\u001b[0m\n\u001b[0;32m--> 235\u001b[0;31m                 raise ValueError(\n\u001b[0m\u001b[1;32m    236\u001b[0m                     \u001b[0;34mf'Input {input_index} of layer \"{layer_name}\" '\u001b[0m\u001b[0;34m\u001b[0m\u001b[0;34m\u001b[0m\u001b[0m\n\u001b[1;32m    237\u001b[0m                     \u001b[0;34m\"is incompatible with the layer: \"\u001b[0m\u001b[0;34m\u001b[0m\u001b[0;34m\u001b[0m\u001b[0m\n",
            "\u001b[0;31mValueError\u001b[0m: Input 0 of layer \"max_pooling1d_1\" is incompatible with the layer: expected ndim=3, found ndim=2. Full shape received: (None, 32)"
          ]
        }
      ]
    },
    {
      "cell_type": "code",
      "source": [
        "model=tf.keras.Sequential([tf.keras.layers.Dense(64, activation='relu', input_shape=(X_train.shape[1],)),tf.keras.layers.Dense(32,activation='relu'),tf.keras.layers.Dense(4, activation='softmax')])"
      ],
      "metadata": {
        "id": "uWJWJgn-P-BI"
      },
      "execution_count": 75,
      "outputs": []
    },
    {
      "cell_type": "code",
      "source": [
        "model.compile(optimizer='adam',loss='sparse_categorical_crossentropy',metrics=['accuracy'])"
      ],
      "metadata": {
        "id": "tD_KhExZLRZC"
      },
      "execution_count": 59,
      "outputs": []
    },
    {
      "cell_type": "code",
      "source": [
        "model.fit(X_train,y_train,epochs=20, batch_size=30,verbose=1)"
      ],
      "metadata": {
        "colab": {
          "base_uri": "https://localhost:8080/"
        },
        "id": "4JkGQkMULuzg",
        "outputId": "56a6f5ad-e2ff-4e15-8539-778d62eb6cf2"
      },
      "execution_count": 60,
      "outputs": [
        {
          "output_type": "stream",
          "name": "stdout",
          "text": [
            "Epoch 1/20\n",
            "41/41 [==============================] - 1s 3ms/step - loss: 0.8030 - accuracy: 0.7292\n",
            "Epoch 2/20\n",
            "41/41 [==============================] - 0s 3ms/step - loss: 0.1842 - accuracy: 0.9821\n",
            "Epoch 3/20\n",
            "41/41 [==============================] - 0s 3ms/step - loss: 0.0659 - accuracy: 0.9878\n",
            "Epoch 4/20\n",
            "41/41 [==============================] - 0s 5ms/step - loss: 0.0372 - accuracy: 0.9935\n",
            "Epoch 5/20\n",
            "41/41 [==============================] - 0s 4ms/step - loss: 0.0247 - accuracy: 0.9967\n",
            "Epoch 6/20\n",
            "41/41 [==============================] - 0s 4ms/step - loss: 0.0185 - accuracy: 0.9976\n",
            "Epoch 7/20\n",
            "41/41 [==============================] - 0s 4ms/step - loss: 0.0141 - accuracy: 0.9984\n",
            "Epoch 8/20\n",
            "41/41 [==============================] - 0s 4ms/step - loss: 0.0107 - accuracy: 0.9984\n",
            "Epoch 9/20\n",
            "41/41 [==============================] - 0s 4ms/step - loss: 0.0084 - accuracy: 0.9992\n",
            "Epoch 10/20\n",
            "41/41 [==============================] - 0s 4ms/step - loss: 0.0068 - accuracy: 0.9992\n",
            "Epoch 11/20\n",
            "41/41 [==============================] - 0s 4ms/step - loss: 0.0053 - accuracy: 1.0000\n",
            "Epoch 12/20\n",
            "41/41 [==============================] - 0s 4ms/step - loss: 0.0045 - accuracy: 1.0000\n",
            "Epoch 13/20\n",
            "41/41 [==============================] - 0s 4ms/step - loss: 0.0037 - accuracy: 1.0000\n",
            "Epoch 14/20\n",
            "41/41 [==============================] - 0s 4ms/step - loss: 0.0032 - accuracy: 1.0000\n",
            "Epoch 15/20\n",
            "41/41 [==============================] - 0s 3ms/step - loss: 0.0027 - accuracy: 1.0000\n",
            "Epoch 16/20\n",
            "41/41 [==============================] - 0s 4ms/step - loss: 0.0022 - accuracy: 1.0000\n",
            "Epoch 17/20\n",
            "41/41 [==============================] - 0s 4ms/step - loss: 0.0020 - accuracy: 1.0000\n",
            "Epoch 18/20\n",
            "41/41 [==============================] - 0s 4ms/step - loss: 0.0017 - accuracy: 1.0000\n",
            "Epoch 19/20\n",
            "41/41 [==============================] - 0s 4ms/step - loss: 0.0016 - accuracy: 1.0000\n",
            "Epoch 20/20\n",
            "41/41 [==============================] - 0s 3ms/step - loss: 0.0014 - accuracy: 1.0000\n"
          ]
        },
        {
          "output_type": "execute_result",
          "data": {
            "text/plain": [
              "<keras.src.callbacks.History at 0x796d816c54b0>"
            ]
          },
          "metadata": {},
          "execution_count": 60
        }
      ]
    },
    {
      "cell_type": "code",
      "source": [
        "y_pred=model.predict(X_test)\n",
        "y_pred_classes= np.argmax(y_pred,axis=1)\n"
      ],
      "metadata": {
        "colab": {
          "base_uri": "https://localhost:8080/"
        },
        "id": "cexDwc0CNC_H",
        "outputId": "4abe943c-0c86-46e1-8e4a-d8c2f7577147"
      },
      "execution_count": 61,
      "outputs": [
        {
          "output_type": "stream",
          "name": "stdout",
          "text": [
            "10/10 [==============================] - 0s 2ms/step\n"
          ]
        }
      ]
    },
    {
      "cell_type": "code",
      "source": [
        "accuracy= accuracy_score(y_test,y_pred_classes)\n",
        "print(f\"Accuracy:{accuracy}\")"
      ],
      "metadata": {
        "colab": {
          "base_uri": "https://localhost:8080/"
        },
        "id": "768acQvHNaje",
        "outputId": "45525950-3376-4853-a669-953b4a56ef16"
      },
      "execution_count": 63,
      "outputs": [
        {
          "output_type": "stream",
          "name": "stdout",
          "text": [
            "Accuracy:1.0\n"
          ]
        }
      ]
    }
  ]
}