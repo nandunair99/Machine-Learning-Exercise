{
 "cells": [
  {
   "cell_type": "markdown",
   "metadata": {
    "id": "IHqZjrHhorSI"
   },
   "source": [
    "# Tensorflow basis"
   ]
  },
  {
   "cell_type": "markdown",
   "metadata": {
    "id": "p0X8ywdNpQRf"
   },
   "source": [
    "## Example 1\n",
    "\n",
    "Eager calculations in tensorflow\n",
    "\n",
    "Add two variables a = 1 and b = 10\n"
   ]
  },
  {
   "cell_type": "code",
   "execution_count": 1,
   "metadata": {
    "colab": {
     "base_uri": "https://localhost:8080/"
    },
    "executionInfo": {
     "elapsed": 379,
     "status": "ok",
     "timestamp": 1635105415938,
     "user": {
      "displayName": "Miroslav Skrbek",
      "photoUrl": "https://lh3.googleusercontent.com/a/default-user=s64",
      "userId": "09090339778048681694"
     },
     "user_tz": -120
    },
    "id": "X049bV9WorSR",
    "outputId": "621c25e6-dcbd-4a25-9cad-d6b38b8e25f0"
   },
   "outputs": [
    {
     "name": "stdout",
     "output_type": "stream",
     "text": [
      "True\n",
      "11\n"
     ]
    }
   ],
   "source": [
    "# Example\n",
    "import numpy as np\n",
    "import tensorflow as tf\n",
    "\n",
    "print(tf.executing_eagerly())\n",
    "\n",
    "a = tf.Variable(1)\n",
    "b = tf.Variable(10)\n",
    "c = a + b\n",
    "print(c.numpy())"
   ]
  },
  {
   "cell_type": "markdown",
   "metadata": {
    "id": "7KkZe5r4p-hU"
   },
   "source": [
    "## Example 2\n"
   ]
  },
  {
   "cell_type": "code",
   "execution_count": 2,
   "metadata": {
    "colab": {
     "base_uri": "https://localhost:8080/"
    },
    "executionInfo": {
     "elapsed": 16,
     "status": "ok",
     "timestamp": 1635105416565,
     "user": {
      "displayName": "Miroslav Skrbek",
      "photoUrl": "https://lh3.googleusercontent.com/a/default-user=s64",
      "userId": "09090339778048681694"
     },
     "user_tz": -120
    },
    "id": "yqgGl1bOvNvK",
    "outputId": "bd4b3761-1715-4790-8f3e-1236f2ad9918"
   },
   "outputs": [
    {
     "name": "stdout",
     "output_type": "stream",
     "text": [
      "10\n"
     ]
    }
   ],
   "source": [
    "# Example\n",
    "import numpy as np\n",
    "import tensorflow as tf\n",
    "\n",
    "@tf.function \n",
    "def add(a,b): \n",
    "  return a + b\n",
    "\n",
    "def sub(a,b):\n",
    "  return a - b  \n",
    "\n",
    "a = tf.Variable(5) \n",
    "b = tf.Variable(6)\n",
    "c = tf.Variable(1)\n",
    "\n",
    "x = add(a,sub(b,c))\n",
    "print(x.numpy())\n"
   ]
  },
  {
   "cell_type": "markdown",
   "metadata": {
    "id": "C8Wkt72q1od2"
   },
   "source": [
    "# Task 1\n",
    "\n",
    "Calculate by Tensorflow folowing expression $y = a * b + c$.\n",
    "\n",
    "a,b, and c are 2x2 matrixes. Numbers in matrixes depends on your choice.\n",
    "Multiplication is elementwise.\n"
   ]
  },
  {
   "cell_type": "code",
   "execution_count": 13,
   "metadata": {
    "colab": {
     "base_uri": "https://localhost:8080/"
    },
    "executionInfo": {
     "elapsed": 15,
     "status": "ok",
     "timestamp": 1635105416567,
     "user": {
      "displayName": "Miroslav Skrbek",
      "photoUrl": "https://lh3.googleusercontent.com/a/default-user=s64",
      "userId": "09090339778048681694"
     },
     "user_tz": -120
    },
    "id": "eQKqnVCcorST",
    "outputId": "e547829d-9255-408b-a2ff-9ee7c2562d36"
   },
   "outputs": [
    {
     "name": "stdout",
     "output_type": "stream",
     "text": [
      "tf.Tensor(\n",
      "[[  8.  14.]\n",
      " [110. 110.]], shape=(2, 2), dtype=float32)\n"
     ]
    }
   ],
   "source": [
    "a=tf.constant([[1,2],[10,10]],dtype=tf.float32)\n",
    "b=tf.constant([[3,4],[10,10]],dtype=tf.float32)\n",
    "c=tf.constant([[5,6],[10,10]],dtype=tf.float32)\n",
    "\n",
    "@tf.function\n",
    "def applyEq(a,b,c):\n",
    "    return a*b+c\n",
    "\n",
    "print(applyEq(a,b,c))"
   ]
  },
  {
   "cell_type": "markdown",
   "metadata": {
    "id": "FfwIYjWT1tjU"
   },
   "source": [
    "# Example 3\n",
    "\n",
    "Draw a graf of the function $y=f(x)=x^2$ and its derivatice $y'=f'(x). Use Tensoflow for derivative calculation."
   ]
  },
  {
   "cell_type": "code",
   "execution_count": 4,
   "metadata": {
    "colab": {
     "base_uri": "https://localhost:8080/",
     "height": 320
    },
    "executionInfo": {
     "elapsed": 477,
     "status": "ok",
     "timestamp": 1635106211562,
     "user": {
      "displayName": "Miroslav Skrbek",
      "photoUrl": "https://lh3.googleusercontent.com/a/default-user=s64",
      "userId": "09090339778048681694"
     },
     "user_tz": -120
    },
    "id": "XMIJkPiC4Zq3",
    "outputId": "4ade5a6c-402d-4cb4-cf78-8b6810386143"
   },
   "outputs": [
    {
     "name": "stdout",
     "output_type": "stream",
     "text": [
      "[9. 4. 1. 0. 1. 4. 9.]\n",
      "[-6. -4. -2.  0.  2.  4.  6.]\n"
     ]
    },
    {
     "data": {
      "text/plain": [
       "[<matplotlib.lines.Line2D at 0x1c4266e8950>]"
      ]
     },
     "execution_count": 4,
     "metadata": {},
     "output_type": "execute_result"
    },
    {
     "data": {
      "image/png": "[encoded data removed]",
      "text/plain": [
       "<Figure size 640x480 with 1 Axes>"
      ]
     },
     "metadata": {},
     "output_type": "display_data"
    }
   ],
   "source": [
    "# Example\n",
    "import tensorflow as tf\n",
    "import numpy as np\n",
    "import matplotlib.pyplot as plt\n",
    "\n",
    "@tf.function\n",
    "def f(x):\n",
    "  y = x*x\n",
    "  return y\n",
    "\n",
    "@tf.function\n",
    "def dfdx(x):\n",
    "  y = f(x)\n",
    "  return tf.gradients(y, x)[0]\n",
    "\n",
    "x = tf.Variable([-3.,-2.,-1.,0.,1.,2.,3.])\n",
    "print(f(x).numpy())\n",
    "print(dfdx(x).numpy())\n",
    "\n",
    "plt.plot(f(x),'g')\n",
    "plt.plot(dfdx(x),'r')       "
   ]
  },
  {
   "cell_type": "markdown",
   "metadata": {
    "id": "RsoyoR_97wRL"
   },
   "source": [
    "# Task 2\n",
    "\n",
    "Draw a graf of the function $y=\\sigma(x)=\\frac{1}{1+e^{-x}}$ and its derivative $y'=s'(x)$. Use Tensoflow for derivative calculation."
   ]
  },
  {
   "cell_type": "code",
   "execution_count": 43,
   "metadata": {
    "colab": {
     "base_uri": "https://localhost:8080/",
     "height": 283
    },
    "executionInfo": {
     "elapsed": 455,
     "status": "ok",
     "timestamp": 1635106557135,
     "user": {
      "displayName": "Miroslav Skrbek",
      "photoUrl": "https://lh3.googleusercontent.com/a/default-user=s64",
      "userId": "09090339778048681694"
     },
     "user_tz": -120
    },
    "id": "JdLkmdNmorSU",
    "outputId": "65b66963-4c70-4762-aa91-16c20133cd5f"
   },
   "outputs": [
    {
     "data": {
      "image/png": "[encoded data removed]",
      "text/plain": [
       "<Figure size 1000x600 with 1 Axes>"
      ]
     },
     "metadata": {},
     "output_type": "display_data"
    }
   ],
   "source": [
    "@tf.function\n",
    "def sgm(x):\n",
    "    y = 1/(1+tf.exp(-x))\n",
    "    return y\n",
    "\n",
    "@tf.function\n",
    "def dy_sgm(x):\n",
    "    y=sgm(x)\n",
    "    return tf.gradients(y,x)[0]\n",
    "\n",
    "@tf.function\n",
    "def dx_sgm(x1):\n",
    "    with tf.GradientTape() as tape:\n",
    "        tape.watch(x1)\n",
    "        z=sgm(x1)\n",
    "    return tape.gradient(z,z)\n",
    "\n",
    "x=tf.Variable(np.linspace(1,10,10),dtype=tf.float32)\n",
    "x1=tf.constant([1,2,3,4,5],dtype=tf.float32)\n",
    "\n",
    "# Plot the function and its derivative\n",
    "plt.figure(figsize=(10, 6))\n",
    "plt.plot(sgm(x), label=\"y = f(x) = x^2\", color=\"blue\")\n",
    "plt.plot(dy_sgm(x), label=\"y' = f'(x) = 2x\", color=\"red\", linestyle=\"--\")\n",
    "plt.plot(dx_sgm(x1), label=\"x' = f'(x) = 2x\", color=\"yellow\", linestyle=\"--\")\n",
    "plt.xlabel(\"x\")\n",
    "plt.ylabel(\"y\")\n",
    "plt.title(\"Function and its Derivative\")\n",
    "plt.legend()\n",
    "plt.grid()\n",
    "plt.show()"
   ]
  },
  {
   "cell_type": "markdown",
   "metadata": {
    "id": "cLwKB6Si7kwS"
   },
   "source": [
    "# Task 3\n",
    "\n",
    "Calculate the gradient of function $y=g(x,y)=e^{-\\frac{x^2+y^2}{2\\sigma^2}}$ for $\\sigma^2 = 0.5\\;\\mbox{and}\\;x = 1\\;\\mbox{and}\\;y = 1$"
   ]
  },
  {
   "cell_type": "code",
   "execution_count": 78,
   "metadata": {
    "colab": {
     "base_uri": "https://localhost:8080/"
    },
    "executionInfo": {
     "elapsed": 405,
     "status": "ok",
     "timestamp": 1635107819785,
     "user": {
      "displayName": "Miroslav Skrbek",
      "photoUrl": "https://lh3.googleusercontent.com/a/default-user=s64",
      "userId": "09090339778048681694"
     },
     "user_tz": -120
    },
    "id": "WYcL7uk2orSV",
    "outputId": "2299fb4f-07ff-4ae2-b746-0af61bf4e8d3"
   },
   "outputs": [
    {
     "name": "stdout",
     "output_type": "stream",
     "text": [
      "1.0 1.0\n",
      "-0.07326256   -0.07326256\n"
     ]
    }
   ],
   "source": [
    "@tf.function\n",
    "def g(x,y,sigma):\n",
    "    y=tf.exp(-(x**2 + y**2)/(2*sigma**2))\n",
    "    return y\n",
    "\n",
    "@tf.function\n",
    "def d_g(x,y,sigma):\n",
    "    z=g(x,y,sigma)\n",
    "    return tf.gradients(z,[x,y])[0],tf.gradients(z,[x,y])[1]\n",
    "x,y=tf.Variable(1,dtype=tf.float32),tf.Variable(1,dtype=tf.float32)\n",
    "print(x.numpy(),y.numpy())\n",
    "sigma=tf.Variable(0.5)\n",
    "dx,dy=d_g(x,y,sigma)\n",
    "print(dx.numpy(),\" \",dy.numpy())"
   ]
  },
  {
   "cell_type": "markdown",
   "metadata": {
    "id": "A2LslzJfBpxg"
   },
   "source": [
    "# Task 4\n",
    "\n",
    "Create a simple neural feed forward neural network using Tensorflow.\n",
    "\n",
    "Input layer -> hidden layer -> output layer\n",
    "\n",
    "for IRIS dataset"
   ]
  },
  {
   "cell_type": "code",
   "execution_count": 99,
   "metadata": {
    "colab": {
     "base_uri": "https://localhost:8080/",
     "height": 595
    },
    "executionInfo": {
     "elapsed": 393,
     "status": "error",
     "timestamp": 1635109151980,
     "user": {
      "displayName": "Miroslav Skrbek",
      "photoUrl": "https://lh3.googleusercontent.com/a/default-user=s64",
      "userId": "09090339778048681694"
     },
     "user_tz": -120
    },
    "id": "YrLz_TkB-bfT",
    "outputId": "83b0207c-7bcb-4787-97ff-f4efaf21e19d"
   },
   "outputs": [
    {
     "name": "stdout",
     "output_type": "stream",
     "text": [
      "           X1        X2        X3        X4\n",
      "47   0.083333  0.500000  0.067797  0.041667\n",
      "42   0.027778  0.500000  0.050847  0.041667\n",
      "19   0.222222  0.750000  0.084746  0.083333\n",
      "127  0.500000  0.416667  0.661017  0.708333\n",
      "118  0.944444  0.250000  1.000000  0.916667\n",
      "..        ...       ...       ...       ...\n",
      "22   0.083333  0.666667  0.000000  0.041667\n",
      "49   0.194444  0.541667  0.067797  0.041667\n",
      "90   0.333333  0.250000  0.576271  0.458333\n",
      "107  0.833333  0.375000  0.898305  0.708333\n",
      "54   0.611111  0.333333  0.610169  0.583333\n",
      "\n",
      "[120 rows x 4 columns]\n"
     ]
    }
   ],
   "source": [
    "import pandas as pd\n",
    "import numpy as np\n",
    "from sklearn.model_selection import train_test_split\n",
    "\n",
    "#loading data\n",
    "iris_df=pd.read_csv(\"https://archive.ics.uci.edu/ml/machine-learning-databases/iris/iris.data\",names=['X1','X2','X3','X4','Y'])\n",
    "features=iris_df.iloc[:,:4]\n",
    "target=iris_df.iloc[:,-1:]\n",
    "\n",
    "#Normalizing the features\n",
    "def normalize_features(input):\n",
    "    ymax=1\n",
    "    ymin=0\n",
    "    return ((ymax-ymin)*(input-input.min(axis=0))/(input.max(axis=0)-input.min(axis=0)))+ymin\n",
    "\n",
    "features=normalize_features(features)\n",
    "y_encoded=pd.get_dummies(target,sparse=False, prefix='Y',dtype=float)\n",
    "x_train,x_test,y_train,y_test=train_test_split(features, y_encoded, test_size=0.2, random_state=69)\n",
    "print(x_train)\n"
   ]
  },
  {
   "cell_type": "code",
   "execution_count": 103,
   "metadata": {
    "id": "s1I_7TDwC437"
   },
   "outputs": [
    {
     "name": "stdout",
     "output_type": "stream",
     "text": [
      "Epoch 1/100\n",
      "\u001b[1m17/17\u001b[0m \u001b[32m━━━━━━━━━━━━━━━━━━━━\u001b[0m\u001b[37m\u001b[0m \u001b[1m1s\u001b[0m 16ms/step - Accuracy: 0.2611 - F1Score: 0.2069 - loss: 0.2433 - val_Accuracy: 0.2778 - val_F1Score: 0.2103 - val_loss: 0.2399\n",
      "Epoch 2/100\n",
      "\u001b[1m17/17\u001b[0m \u001b[32m━━━━━━━━━━━━━━━━━━━━\u001b[0m\u001b[37m\u001b[0m \u001b[1m0s\u001b[0m 4ms/step - Accuracy: 0.3532 - F1Score: 0.2289 - loss: 0.2312 - val_Accuracy: 0.2778 - val_F1Score: 0.1449 - val_loss: 0.2358\n",
      "Epoch 3/100\n",
      "\u001b[1m17/17\u001b[0m \u001b[32m━━━━━━━━━━━━━━━━━━━━\u001b[0m\u001b[37m\u001b[0m \u001b[1m0s\u001b[0m 5ms/step - Accuracy: 0.3285 - F1Score: 0.2158 - loss: 0.2299 - val_Accuracy: 0.2778 - val_F1Score: 0.1449 - val_loss: 0.2319\n",
      "Epoch 4/100\n",
      "\u001b[1m17/17\u001b[0m \u001b[32m━━━━━━━━━━━━━━━━━━━━\u001b[0m\u001b[37m\u001b[0m \u001b[1m0s\u001b[0m 3ms/step - Accuracy: 0.2624 - F1Score: 0.1661 - loss: 0.2299 - val_Accuracy: 0.2778 - val_F1Score: 0.1449 - val_loss: 0.2282\n",
      "Epoch 5/100\n",
      "\u001b[1m17/17\u001b[0m \u001b[32m━━━━━━━━━━━━━━━━━━━━\u001b[0m\u001b[37m\u001b[0m \u001b[1m0s\u001b[0m 4ms/step - Accuracy: 0.3876 - F1Score: 0.2165 - loss: 0.2154 - val_Accuracy: 0.2778 - val_F1Score: 0.1449 - val_loss: 0.2250\n",
      "Epoch 6/100\n",
      "\u001b[1m17/17\u001b[0m \u001b[32m━━━━━━━━━━━━━━━━━━━━\u001b[0m\u001b[37m\u001b[0m \u001b[1m0s\u001b[0m 4ms/step - Accuracy: 0.3484 - F1Score: 0.2189 - loss: 0.2196 - val_Accuracy: 0.2778 - val_F1Score: 0.1449 - val_loss: 0.2218\n",
      "Epoch 7/100\n",
      "\u001b[1m17/17\u001b[0m \u001b[32m━━━━━━━━━━━━━━━━━━━━\u001b[0m\u001b[37m\u001b[0m \u001b[1m0s\u001b[0m 5ms/step - Accuracy: 0.2865 - F1Score: 0.1455 - loss: 0.2180 - val_Accuracy: 0.2778 - val_F1Score: 0.1449 - val_loss: 0.2186\n",
      "Epoch 8/100\n",
      "\u001b[1m17/17\u001b[0m \u001b[32m━━━━━━━━━━━━━━━━━━━━\u001b[0m\u001b[37m\u001b[0m \u001b[1m0s\u001b[0m 4ms/step - Accuracy: 0.2620 - F1Score: 0.1366 - loss: 0.2151 - val_Accuracy: 0.2778 - val_F1Score: 0.1449 - val_loss: 0.2154\n",
      "Epoch 9/100\n",
      "\u001b[1m17/17\u001b[0m \u001b[32m━━━━━━━━━━━━━━━━━━━━\u001b[0m\u001b[37m\u001b[0m \u001b[1m0s\u001b[0m 4ms/step - Accuracy: 0.3416 - F1Score: 0.1687 - loss: 0.2069 - val_Accuracy: 0.2778 - val_F1Score: 0.1449 - val_loss: 0.2124\n",
      "Epoch 10/100\n",
      "\u001b[1m17/17\u001b[0m \u001b[32m━━━━━━━━━━━━━━━━━━━━\u001b[0m\u001b[37m\u001b[0m \u001b[1m0s\u001b[0m 5ms/step - Accuracy: 0.3880 - F1Score: 0.2038 - loss: 0.1986 - val_Accuracy: 0.2778 - val_F1Score: 0.1449 - val_loss: 0.2096\n",
      "Epoch 11/100\n",
      "\u001b[1m17/17\u001b[0m \u001b[32m━━━━━━━━━━━━━━━━━━━━\u001b[0m\u001b[37m\u001b[0m \u001b[1m0s\u001b[0m 4ms/step - Accuracy: 0.3248 - F1Score: 0.1974 - loss: 0.2068 - val_Accuracy: 0.3333 - val_F1Score: 0.2348 - val_loss: 0.2063\n",
      "Epoch 12/100\n",
      "\u001b[1m17/17\u001b[0m \u001b[32m━━━━━━━━━━━━━━━━━━━━\u001b[0m\u001b[37m\u001b[0m \u001b[1m0s\u001b[0m 3ms/step - Accuracy: 0.4505 - F1Score: 0.3145 - loss: 0.1966 - val_Accuracy: 0.3889 - val_F1Score: 0.3069 - val_loss: 0.2035\n",
      "Epoch 13/100\n",
      "\u001b[1m17/17\u001b[0m \u001b[32m━━━━━━━━━━━━━━━━━━━━\u001b[0m\u001b[37m\u001b[0m \u001b[1m0s\u001b[0m 4ms/step - Accuracy: 0.3955 - F1Score: 0.3405 - loss: 0.2000 - val_Accuracy: 0.5000 - val_F1Score: 0.4179 - val_loss: 0.2005\n",
      "Epoch 14/100\n",
      "\u001b[1m17/17\u001b[0m \u001b[32m━━━━━━━━━━━━━━━━━━━━\u001b[0m\u001b[37m\u001b[0m \u001b[1m0s\u001b[0m 4ms/step - Accuracy: 0.5883 - F1Score: 0.4784 - loss: 0.1862 - val_Accuracy: 0.5278 - val_F1Score: 0.4410 - val_loss: 0.1979\n",
      "Epoch 15/100\n",
      "\u001b[1m17/17\u001b[0m \u001b[32m━━━━━━━━━━━━━━━━━━━━\u001b[0m\u001b[37m\u001b[0m \u001b[1m0s\u001b[0m 3ms/step - Accuracy: 0.5685 - F1Score: 0.4316 - loss: 0.1871 - val_Accuracy: 0.5278 - val_F1Score: 0.4410 - val_loss: 0.1946\n",
      "Epoch 16/100\n",
      "\u001b[1m17/17\u001b[0m \u001b[32m━━━━━━━━━━━━━━━━━━━━\u001b[0m\u001b[37m\u001b[0m \u001b[1m0s\u001b[0m 4ms/step - Accuracy: 0.5603 - F1Score: 0.4680 - loss: 0.1891 - val_Accuracy: 0.5556 - val_F1Score: 0.4630 - val_loss: 0.1916\n",
      "Epoch 17/100\n",
      "\u001b[1m17/17\u001b[0m \u001b[32m━━━━━━━━━━━━━━━━━━━━\u001b[0m\u001b[37m\u001b[0m \u001b[1m0s\u001b[0m 4ms/step - Accuracy: 0.5283 - F1Score: 0.4877 - loss: 0.1893 - val_Accuracy: 0.6111 - val_F1Score: 0.5038 - val_loss: 0.1889\n",
      "Epoch 18/100\n",
      "\u001b[1m17/17\u001b[0m \u001b[32m━━━━━━━━━━━━━━━━━━━━\u001b[0m\u001b[37m\u001b[0m \u001b[1m0s\u001b[0m 5ms/step - Accuracy: 0.6530 - F1Score: 0.5309 - loss: 0.1789 - val_Accuracy: 0.6389 - val_F1Score: 0.5230 - val_loss: 0.1860\n",
      "Epoch 19/100\n",
      "\u001b[1m17/17\u001b[0m \u001b[32m━━━━━━━━━━━━━━━━━━━━\u001b[0m\u001b[37m\u001b[0m \u001b[1m0s\u001b[0m 5ms/step - Accuracy: 0.6585 - F1Score: 0.5628 - loss: 0.1779 - val_Accuracy: 0.6667 - val_F1Score: 0.5417 - val_loss: 0.1832\n",
      "Epoch 20/100\n",
      "\u001b[1m17/17\u001b[0m \u001b[32m━━━━━━━━━━━━━━━━━━━━\u001b[0m\u001b[37m\u001b[0m \u001b[1m0s\u001b[0m 4ms/step - Accuracy: 0.6653 - F1Score: 0.5589 - loss: 0.1775 - val_Accuracy: 0.6667 - val_F1Score: 0.5417 - val_loss: 0.1804\n",
      "Epoch 21/100\n",
      "\u001b[1m17/17\u001b[0m \u001b[32m━━━━━━━━━━━━━━━━━━━━\u001b[0m\u001b[37m\u001b[0m \u001b[1m0s\u001b[0m 7ms/step - Accuracy: 0.7060 - F1Score: 0.5709 - loss: 0.1744 - val_Accuracy: 0.6667 - val_F1Score: 0.5417 - val_loss: 0.1775\n",
      "Epoch 22/100\n",
      "\u001b[1m17/17\u001b[0m \u001b[32m━━━━━━━━━━━━━━━━━━━━\u001b[0m\u001b[37m\u001b[0m \u001b[1m0s\u001b[0m 4ms/step - Accuracy: 0.5812 - F1Score: 0.5260 - loss: 0.1775 - val_Accuracy: 0.6667 - val_F1Score: 0.5417 - val_loss: 0.1748\n",
      "Epoch 23/100\n",
      "\u001b[1m17/17\u001b[0m \u001b[32m━━━━━━━━━━━━━━━━━━━━\u001b[0m\u001b[37m\u001b[0m \u001b[1m0s\u001b[0m 4ms/step - Accuracy: 0.7250 - F1Score: 0.5617 - loss: 0.1710 - val_Accuracy: 0.6667 - val_F1Score: 0.5417 - val_loss: 0.1718\n",
      "Epoch 24/100\n",
      "\u001b[1m17/17\u001b[0m \u001b[32m━━━━━━━━━━━━━━━━━━━━\u001b[0m\u001b[37m\u001b[0m \u001b[1m0s\u001b[0m 3ms/step - Accuracy: 0.7059 - F1Score: 0.5705 - loss: 0.1645 - val_Accuracy: 0.6667 - val_F1Score: 0.5417 - val_loss: 0.1694\n",
      "Epoch 25/100\n",
      "\u001b[1m17/17\u001b[0m \u001b[32m━━━━━━━━━━━━━━━━━━━━\u001b[0m\u001b[37m\u001b[0m \u001b[1m0s\u001b[0m 4ms/step - Accuracy: 0.6534 - F1Score: 0.5457 - loss: 0.1669 - val_Accuracy: 0.6667 - val_F1Score: 0.5417 - val_loss: 0.1667\n",
      "Epoch 26/100\n",
      "\u001b[1m17/17\u001b[0m \u001b[32m━━━━━━━━━━━━━━━━━━━━\u001b[0m\u001b[37m\u001b[0m \u001b[1m0s\u001b[0m 4ms/step - Accuracy: 0.5845 - F1Score: 0.5343 - loss: 0.1680 - val_Accuracy: 0.6667 - val_F1Score: 0.5417 - val_loss: 0.1644\n",
      "Epoch 27/100\n",
      "\u001b[1m17/17\u001b[0m \u001b[32m━━━━━━━━━━━━━━━━━━━━\u001b[0m\u001b[37m\u001b[0m \u001b[1m0s\u001b[0m 3ms/step - Accuracy: 0.5987 - F1Score: 0.5158 - loss: 0.1650 - val_Accuracy: 0.6667 - val_F1Score: 0.5417 - val_loss: 0.1618\n",
      "Epoch 28/100\n",
      "\u001b[1m17/17\u001b[0m \u001b[32m━━━━━━━━━━━━━━━━━━━━\u001b[0m\u001b[37m\u001b[0m \u001b[1m0s\u001b[0m 4ms/step - Accuracy: 0.6593 - F1Score: 0.5528 - loss: 0.1590 - val_Accuracy: 0.6667 - val_F1Score: 0.5417 - val_loss: 0.1596\n",
      "Epoch 29/100\n",
      "\u001b[1m17/17\u001b[0m \u001b[32m━━━━━━━━━━━━━━━━━━━━\u001b[0m\u001b[37m\u001b[0m \u001b[1m0s\u001b[0m 5ms/step - Accuracy: 0.6618 - F1Score: 0.5512 - loss: 0.1570 - val_Accuracy: 0.6667 - val_F1Score: 0.5417 - val_loss: 0.1573\n",
      "Epoch 30/100\n",
      "\u001b[1m17/17\u001b[0m \u001b[32m━━━━━━━━━━━━━━━━━━━━\u001b[0m\u001b[37m\u001b[0m \u001b[1m0s\u001b[0m 5ms/step - Accuracy: 0.7075 - F1Score: 0.5729 - loss: 0.1518 - val_Accuracy: 0.6667 - val_F1Score: 0.5417 - val_loss: 0.1551\n",
      "Epoch 31/100\n",
      "\u001b[1m17/17\u001b[0m \u001b[32m━━━━━━━━━━━━━━━━━━━━\u001b[0m\u001b[37m\u001b[0m \u001b[1m0s\u001b[0m 5ms/step - Accuracy: 0.6967 - F1Score: 0.5584 - loss: 0.1503 - val_Accuracy: 0.6667 - val_F1Score: 0.5417 - val_loss: 0.1528\n",
      "Epoch 32/100\n",
      "\u001b[1m17/17\u001b[0m \u001b[32m━━━━━━━━━━━━━━━━━━━━\u001b[0m\u001b[37m\u001b[0m \u001b[1m0s\u001b[0m 5ms/step - Accuracy: 0.6575 - F1Score: 0.5532 - loss: 0.1524 - val_Accuracy: 0.6667 - val_F1Score: 0.5417 - val_loss: 0.1509\n",
      "Epoch 33/100\n",
      "\u001b[1m17/17\u001b[0m \u001b[32m━━━━━━━━━━━━━━━━━━━━\u001b[0m\u001b[37m\u001b[0m \u001b[1m0s\u001b[0m 4ms/step - Accuracy: 0.6423 - F1Score: 0.5481 - loss: 0.1511 - val_Accuracy: 0.6667 - val_F1Score: 0.5417 - val_loss: 0.1487\n",
      "Epoch 34/100\n",
      "\u001b[1m17/17\u001b[0m \u001b[32m━━━━━━━━━━━━━━━━━━━━\u001b[0m\u001b[37m\u001b[0m \u001b[1m0s\u001b[0m 5ms/step - Accuracy: 0.6289 - F1Score: 0.5500 - loss: 0.1511 - val_Accuracy: 0.6667 - val_F1Score: 0.5417 - val_loss: 0.1469\n",
      "Epoch 35/100\n",
      "\u001b[1m17/17\u001b[0m \u001b[32m━━━━━━━━━━━━━━━━━━━━\u001b[0m\u001b[37m\u001b[0m \u001b[1m0s\u001b[0m 4ms/step - Accuracy: 0.6596 - F1Score: 0.5617 - loss: 0.1456 - val_Accuracy: 0.6667 - val_F1Score: 0.5417 - val_loss: 0.1450\n",
      "Epoch 36/100\n",
      "\u001b[1m17/17\u001b[0m \u001b[32m━━━━━━━━━━━━━━━━━━━━\u001b[0m\u001b[37m\u001b[0m \u001b[1m0s\u001b[0m 4ms/step - Accuracy: 0.6355 - F1Score: 0.5411 - loss: 0.1460 - val_Accuracy: 0.6667 - val_F1Score: 0.5417 - val_loss: 0.1430\n",
      "Epoch 37/100\n",
      "\u001b[1m17/17\u001b[0m \u001b[32m━━━━━━━━━━━━━━━━━━━━\u001b[0m\u001b[37m\u001b[0m \u001b[1m0s\u001b[0m 3ms/step - Accuracy: 0.5312 - F1Score: 0.5038 - loss: 0.1552 - val_Accuracy: 0.6667 - val_F1Score: 0.5417 - val_loss: 0.1411\n",
      "Epoch 38/100\n",
      "\u001b[1m17/17\u001b[0m \u001b[32m━━━━━━━━━━━━━━━━━━━━\u001b[0m\u001b[37m\u001b[0m \u001b[1m0s\u001b[0m 4ms/step - Accuracy: 0.6947 - F1Score: 0.5727 - loss: 0.1391 - val_Accuracy: 0.6667 - val_F1Score: 0.5417 - val_loss: 0.1395\n",
      "Epoch 39/100\n",
      "\u001b[1m17/17\u001b[0m \u001b[32m━━━━━━━━━━━━━━━━━━━━\u001b[0m\u001b[37m\u001b[0m \u001b[1m0s\u001b[0m 4ms/step - Accuracy: 0.6763 - F1Score: 0.5635 - loss: 0.1385 - val_Accuracy: 0.6667 - val_F1Score: 0.5417 - val_loss: 0.1377\n",
      "Epoch 40/100\n",
      "\u001b[1m17/17\u001b[0m \u001b[32m━━━━━━━━━━━━━━━━━━━━\u001b[0m\u001b[37m\u001b[0m \u001b[1m0s\u001b[0m 4ms/step - Accuracy: 0.6570 - F1Score: 0.5567 - loss: 0.1365 - val_Accuracy: 0.6667 - val_F1Score: 0.5417 - val_loss: 0.1360\n",
      "Epoch 41/100\n",
      "\u001b[1m17/17\u001b[0m \u001b[32m━━━━━━━━━━━━━━━━━━━━\u001b[0m\u001b[37m\u001b[0m \u001b[1m0s\u001b[0m 5ms/step - Accuracy: 0.7085 - F1Score: 0.6135 - loss: 0.1324 - val_Accuracy: 0.6667 - val_F1Score: 0.5417 - val_loss: 0.1344\n",
      "Epoch 42/100\n",
      "\u001b[1m17/17\u001b[0m \u001b[32m━━━━━━━━━━━━━━━━━━━━\u001b[0m\u001b[37m\u001b[0m \u001b[1m0s\u001b[0m 4ms/step - Accuracy: 0.6361 - F1Score: 0.5432 - loss: 0.1382 - val_Accuracy: 0.6667 - val_F1Score: 0.5417 - val_loss: 0.1328\n",
      "Epoch 43/100\n",
      "\u001b[1m17/17\u001b[0m \u001b[32m━━━━━━━━━━━━━━━━━━━━\u001b[0m\u001b[37m\u001b[0m \u001b[1m0s\u001b[0m 5ms/step - Accuracy: 0.6336 - F1Score: 0.5596 - loss: 0.1375 - val_Accuracy: 0.6667 - val_F1Score: 0.5417 - val_loss: 0.1314\n",
      "Epoch 44/100\n",
      "\u001b[1m17/17\u001b[0m \u001b[32m━━━━━━━━━━━━━━━━━━━━\u001b[0m\u001b[37m\u001b[0m \u001b[1m0s\u001b[0m 4ms/step - Accuracy: 0.6290 - F1Score: 0.5631 - loss: 0.1352 - val_Accuracy: 0.6667 - val_F1Score: 0.5417 - val_loss: 0.1298\n",
      "Epoch 45/100\n",
      "\u001b[1m17/17\u001b[0m \u001b[32m━━━━━━━━━━━━━━━━━━━━\u001b[0m\u001b[37m\u001b[0m \u001b[1m0s\u001b[0m 4ms/step - Accuracy: 0.6471 - F1Score: 0.6156 - loss: 0.1379 - val_Accuracy: 0.6667 - val_F1Score: 0.5417 - val_loss: 0.1286\n",
      "Epoch 46/100\n",
      "\u001b[1m17/17\u001b[0m \u001b[32m━━━━━━━━━━━━━━━━━━━━\u001b[0m\u001b[37m\u001b[0m \u001b[1m0s\u001b[0m 4ms/step - Accuracy: 0.6838 - F1Score: 0.5756 - loss: 0.1261 - val_Accuracy: 0.6667 - val_F1Score: 0.5417 - val_loss: 0.1271\n",
      "Epoch 47/100\n",
      "\u001b[1m17/17\u001b[0m \u001b[32m━━━━━━━━━━━━━━━━━━━━\u001b[0m\u001b[37m\u001b[0m \u001b[1m0s\u001b[0m 4ms/step - Accuracy: 0.6145 - F1Score: 0.5393 - loss: 0.1322 - val_Accuracy: 0.6667 - val_F1Score: 0.5417 - val_loss: 0.1256\n",
      "Epoch 48/100\n",
      "\u001b[1m17/17\u001b[0m \u001b[32m━━━━━━━━━━━━━━━━━━━━\u001b[0m\u001b[37m\u001b[0m \u001b[1m0s\u001b[0m 4ms/step - Accuracy: 0.6200 - F1Score: 0.5941 - loss: 0.1369 - val_Accuracy: 0.6667 - val_F1Score: 0.5417 - val_loss: 0.1245\n",
      "Epoch 49/100\n",
      "\u001b[1m17/17\u001b[0m \u001b[32m━━━━━━━━━━━━━━━━━━━━\u001b[0m\u001b[37m\u001b[0m \u001b[1m0s\u001b[0m 4ms/step - Accuracy: 0.6707 - F1Score: 0.6007 - loss: 0.1319 - val_Accuracy: 0.6667 - val_F1Score: 0.5417 - val_loss: 0.1235\n",
      "Epoch 50/100\n",
      "\u001b[1m17/17\u001b[0m \u001b[32m━━━━━━━━━━━━━━━━━━━━\u001b[0m\u001b[37m\u001b[0m \u001b[1m0s\u001b[0m 4ms/step - Accuracy: 0.6786 - F1Score: 0.5993 - loss: 0.1260 - val_Accuracy: 0.6944 - val_F1Score: 0.5997 - val_loss: 0.1218\n",
      "Epoch 51/100\n",
      "\u001b[1m17/17\u001b[0m \u001b[32m━━━━━━━━━━━━━━━━━━━━\u001b[0m\u001b[37m\u001b[0m \u001b[1m0s\u001b[0m 4ms/step - Accuracy: 0.6798 - F1Score: 0.6281 - loss: 0.1251 - val_Accuracy: 0.6667 - val_F1Score: 0.5417 - val_loss: 0.1209\n",
      "Epoch 52/100\n",
      "\u001b[1m17/17\u001b[0m \u001b[32m━━━━━━━━━━━━━━━━━━━━\u001b[0m\u001b[37m\u001b[0m \u001b[1m0s\u001b[0m 4ms/step - Accuracy: 0.6850 - F1Score: 0.6234 - loss: 0.1225 - val_Accuracy: 0.6944 - val_F1Score: 0.5997 - val_loss: 0.1197\n",
      "Epoch 53/100\n",
      "\u001b[1m17/17\u001b[0m \u001b[32m━━━━━━━━━━━━━━━━━━━━\u001b[0m\u001b[37m\u001b[0m \u001b[1m0s\u001b[0m 4ms/step - Accuracy: 0.7537 - F1Score: 0.6727 - loss: 0.1195 - val_Accuracy: 0.6667 - val_F1Score: 0.5417 - val_loss: 0.1189\n",
      "Epoch 54/100\n",
      "\u001b[1m17/17\u001b[0m \u001b[32m━━━━━━━━━━━━━━━━━━━━\u001b[0m\u001b[37m\u001b[0m \u001b[1m0s\u001b[0m 5ms/step - Accuracy: 0.6669 - F1Score: 0.6401 - loss: 0.1294 - val_Accuracy: 0.6944 - val_F1Score: 0.5997 - val_loss: 0.1175\n",
      "Epoch 55/100\n",
      "\u001b[1m17/17\u001b[0m \u001b[32m━━━━━━━━━━━━━━━━━━━━\u001b[0m\u001b[37m\u001b[0m \u001b[1m0s\u001b[0m 4ms/step - Accuracy: 0.6961 - F1Score: 0.6435 - loss: 0.1250 - val_Accuracy: 0.6944 - val_F1Score: 0.5997 - val_loss: 0.1165\n",
      "Epoch 56/100\n",
      "\u001b[1m17/17\u001b[0m \u001b[32m━━━━━━━━━━━━━━━━━━━━\u001b[0m\u001b[37m\u001b[0m \u001b[1m0s\u001b[0m 4ms/step - Accuracy: 0.7389 - F1Score: 0.6332 - loss: 0.1101 - val_Accuracy: 0.6944 - val_F1Score: 0.5997 - val_loss: 0.1156\n",
      "Epoch 57/100\n",
      "\u001b[1m17/17\u001b[0m \u001b[32m━━━━━━━━━━━━━━━━━━━━\u001b[0m\u001b[37m\u001b[0m \u001b[1m0s\u001b[0m 4ms/step - Accuracy: 0.6306 - F1Score: 0.6297 - loss: 0.1304 - val_Accuracy: 0.7222 - val_F1Score: 0.6508 - val_loss: 0.1145\n",
      "Epoch 58/100\n",
      "\u001b[1m17/17\u001b[0m \u001b[32m━━━━━━━━━━━━━━━━━━━━\u001b[0m\u001b[37m\u001b[0m \u001b[1m0s\u001b[0m 4ms/step - Accuracy: 0.7019 - F1Score: 0.6498 - loss: 0.1208 - val_Accuracy: 0.7222 - val_F1Score: 0.6508 - val_loss: 0.1138\n",
      "Epoch 59/100\n",
      "\u001b[1m17/17\u001b[0m \u001b[32m━━━━━━━━━━━━━━━━━━━━\u001b[0m\u001b[37m\u001b[0m \u001b[1m0s\u001b[0m 4ms/step - Accuracy: 0.6787 - F1Score: 0.6497 - loss: 0.1229 - val_Accuracy: 0.7222 - val_F1Score: 0.6508 - val_loss: 0.1129\n",
      "Epoch 60/100\n",
      "\u001b[1m17/17\u001b[0m \u001b[32m━━━━━━━━━━━━━━━━━━━━\u001b[0m\u001b[37m\u001b[0m \u001b[1m0s\u001b[0m 4ms/step - Accuracy: 0.7283 - F1Score: 0.6819 - loss: 0.1178 - val_Accuracy: 0.7222 - val_F1Score: 0.6508 - val_loss: 0.1121\n",
      "Epoch 61/100\n",
      "\u001b[1m17/17\u001b[0m \u001b[32m━━━━━━━━━━━━━━━━━━━━\u001b[0m\u001b[37m\u001b[0m \u001b[1m0s\u001b[0m 3ms/step - Accuracy: 0.6787 - F1Score: 0.6095 - loss: 0.1139 - val_Accuracy: 0.7222 - val_F1Score: 0.6508 - val_loss: 0.1110\n",
      "Epoch 62/100\n",
      "\u001b[1m17/17\u001b[0m \u001b[32m━━━━━━━━━━━━━━━━━━━━\u001b[0m\u001b[37m\u001b[0m \u001b[1m0s\u001b[0m 4ms/step - Accuracy: 0.7131 - F1Score: 0.6790 - loss: 0.1185 - val_Accuracy: 0.7222 - val_F1Score: 0.6508 - val_loss: 0.1104\n",
      "Epoch 63/100\n",
      "\u001b[1m17/17\u001b[0m \u001b[32m━━━━━━━━━━━━━━━━━━━━\u001b[0m\u001b[37m\u001b[0m \u001b[1m0s\u001b[0m 4ms/step - Accuracy: 0.6791 - F1Score: 0.6723 - loss: 0.1236 - val_Accuracy: 0.7222 - val_F1Score: 0.6508 - val_loss: 0.1094\n",
      "Epoch 64/100\n",
      "\u001b[1m17/17\u001b[0m \u001b[32m━━━━━━━━━━━━━━━━━━━━\u001b[0m\u001b[37m\u001b[0m \u001b[1m0s\u001b[0m 3ms/step - Accuracy: 0.8289 - F1Score: 0.7913 - loss: 0.1054 - val_Accuracy: 0.7222 - val_F1Score: 0.6508 - val_loss: 0.1087\n",
      "Epoch 65/100\n",
      "\u001b[1m17/17\u001b[0m \u001b[32m━━━━━━━━━━━━━━━━━━━━\u001b[0m\u001b[37m\u001b[0m \u001b[1m0s\u001b[0m 4ms/step - Accuracy: 0.7713 - F1Score: 0.7320 - loss: 0.1092 - val_Accuracy: 0.7222 - val_F1Score: 0.6508 - val_loss: 0.1079\n",
      "Epoch 66/100\n",
      "\u001b[1m17/17\u001b[0m \u001b[32m━━━━━━━━━━━━━━━━━━━━\u001b[0m\u001b[37m\u001b[0m \u001b[1m0s\u001b[0m 4ms/step - Accuracy: 0.6347 - F1Score: 0.6485 - loss: 0.1276 - val_Accuracy: 0.7500 - val_F1Score: 0.6966 - val_loss: 0.1071\n",
      "Epoch 67/100\n",
      "\u001b[1m17/17\u001b[0m \u001b[32m━━━━━━━━━━━━━━━━━━━━\u001b[0m\u001b[37m\u001b[0m \u001b[1m0s\u001b[0m 4ms/step - Accuracy: 0.7284 - F1Score: 0.6961 - loss: 0.1124 - val_Accuracy: 0.7500 - val_F1Score: 0.6966 - val_loss: 0.1064\n",
      "Epoch 68/100\n",
      "\u001b[1m17/17\u001b[0m \u001b[32m━━━━━━━━━━━━━━━━━━━━\u001b[0m\u001b[37m\u001b[0m \u001b[1m0s\u001b[0m 4ms/step - Accuracy: 0.7953 - F1Score: 0.7694 - loss: 0.1076 - val_Accuracy: 0.7500 - val_F1Score: 0.6966 - val_loss: 0.1059\n",
      "Epoch 69/100\n",
      "\u001b[1m17/17\u001b[0m \u001b[32m━━━━━━━━━━━━━━━━━━━━\u001b[0m\u001b[37m\u001b[0m \u001b[1m0s\u001b[0m 3ms/step - Accuracy: 0.8041 - F1Score: 0.7041 - loss: 0.0947 - val_Accuracy: 0.7500 - val_F1Score: 0.6966 - val_loss: 0.1051\n",
      "Epoch 70/100\n",
      "\u001b[1m17/17\u001b[0m \u001b[32m━━━━━━━━━━━━━━━━━━━━\u001b[0m\u001b[37m\u001b[0m \u001b[1m0s\u001b[0m 4ms/step - Accuracy: 0.7418 - F1Score: 0.7175 - loss: 0.1173 - val_Accuracy: 0.7778 - val_F1Score: 0.7381 - val_loss: 0.1044\n",
      "Epoch 71/100\n",
      "\u001b[1m17/17\u001b[0m \u001b[32m━━━━━━━━━━━━━━━━━━━━\u001b[0m\u001b[37m\u001b[0m \u001b[1m0s\u001b[0m 5ms/step - Accuracy: 0.8045 - F1Score: 0.7865 - loss: 0.1052 - val_Accuracy: 0.7500 - val_F1Score: 0.6966 - val_loss: 0.1039\n",
      "Epoch 72/100\n",
      "\u001b[1m17/17\u001b[0m \u001b[32m━━━━━━━━━━━━━━━━━━━━\u001b[0m\u001b[37m\u001b[0m \u001b[1m0s\u001b[0m 5ms/step - Accuracy: 0.7770 - F1Score: 0.7435 - loss: 0.1034 - val_Accuracy: 0.7778 - val_F1Score: 0.7381 - val_loss: 0.1031\n",
      "Epoch 73/100\n",
      "\u001b[1m17/17\u001b[0m \u001b[32m━━━━━━━━━━━━━━━━━━━━\u001b[0m\u001b[37m\u001b[0m \u001b[1m0s\u001b[0m 4ms/step - Accuracy: 0.7778 - F1Score: 0.7541 - loss: 0.1079 - val_Accuracy: 0.7778 - val_F1Score: 0.7381 - val_loss: 0.1026\n",
      "Epoch 74/100\n",
      "\u001b[1m17/17\u001b[0m \u001b[32m━━━━━━━━━━━━━━━━━━━━\u001b[0m\u001b[37m\u001b[0m \u001b[1m0s\u001b[0m 4ms/step - Accuracy: 0.8193 - F1Score: 0.7279 - loss: 0.1041 - val_Accuracy: 0.7778 - val_F1Score: 0.7381 - val_loss: 0.1021\n",
      "Epoch 75/100\n",
      "\u001b[1m17/17\u001b[0m \u001b[32m━━━━━━━━━━━━━━━━━━━━\u001b[0m\u001b[37m\u001b[0m \u001b[1m0s\u001b[0m 5ms/step - Accuracy: 0.7715 - F1Score: 0.6921 - loss: 0.1065 - val_Accuracy: 0.7500 - val_F1Score: 0.6966 - val_loss: 0.1016\n",
      "Epoch 76/100\n",
      "\u001b[1m17/17\u001b[0m \u001b[32m━━━━━━━━━━━━━━━━━━━━\u001b[0m\u001b[37m\u001b[0m \u001b[1m0s\u001b[0m 4ms/step - Accuracy: 0.7745 - F1Score: 0.7369 - loss: 0.1022 - val_Accuracy: 0.7778 - val_F1Score: 0.7381 - val_loss: 0.1009\n",
      "Epoch 77/100\n",
      "\u001b[1m17/17\u001b[0m \u001b[32m━━━━━━━━━━━━━━━━━━━━\u001b[0m\u001b[37m\u001b[0m \u001b[1m0s\u001b[0m 5ms/step - Accuracy: 0.8108 - F1Score: 0.7444 - loss: 0.0977 - val_Accuracy: 0.7778 - val_F1Score: 0.7381 - val_loss: 0.1004\n",
      "Epoch 78/100\n",
      "\u001b[1m17/17\u001b[0m \u001b[32m━━━━━━━━━━━━━━━━━━━━\u001b[0m\u001b[37m\u001b[0m \u001b[1m0s\u001b[0m 5ms/step - Accuracy: 0.7780 - F1Score: 0.7727 - loss: 0.1116 - val_Accuracy: 0.7778 - val_F1Score: 0.7381 - val_loss: 0.0998\n",
      "Epoch 79/100\n",
      "\u001b[1m17/17\u001b[0m \u001b[32m━━━━━━━━━━━━━━━━━━━━\u001b[0m\u001b[37m\u001b[0m \u001b[1m0s\u001b[0m 4ms/step - Accuracy: 0.7568 - F1Score: 0.7325 - loss: 0.1060 - val_Accuracy: 0.7778 - val_F1Score: 0.7381 - val_loss: 0.0992\n",
      "Epoch 80/100\n",
      "\u001b[1m17/17\u001b[0m \u001b[32m━━━━━━━━━━━━━━━━━━━━\u001b[0m\u001b[37m\u001b[0m \u001b[1m0s\u001b[0m 4ms/step - Accuracy: 0.8201 - F1Score: 0.7702 - loss: 0.0955 - val_Accuracy: 0.7778 - val_F1Score: 0.7381 - val_loss: 0.0988\n",
      "Epoch 81/100\n",
      "\u001b[1m17/17\u001b[0m \u001b[32m━━━━━━━━━━━━━━━━━━━━\u001b[0m\u001b[37m\u001b[0m \u001b[1m0s\u001b[0m 4ms/step - Accuracy: 0.6932 - F1Score: 0.6910 - loss: 0.1119 - val_Accuracy: 0.8056 - val_F1Score: 0.7763 - val_loss: 0.0981\n",
      "Epoch 82/100\n",
      "\u001b[1m17/17\u001b[0m \u001b[32m━━━━━━━━━━━━━━━━━━━━\u001b[0m\u001b[37m\u001b[0m \u001b[1m0s\u001b[0m 5ms/step - Accuracy: 0.7537 - F1Score: 0.7513 - loss: 0.1096 - val_Accuracy: 0.8056 - val_F1Score: 0.7763 - val_loss: 0.0977\n",
      "Epoch 83/100\n",
      "\u001b[1m17/17\u001b[0m \u001b[32m━━━━━━━━━━━━━━━━━━━━\u001b[0m\u001b[37m\u001b[0m \u001b[1m0s\u001b[0m 5ms/step - Accuracy: 0.7582 - F1Score: 0.7372 - loss: 0.1074 - val_Accuracy: 0.7778 - val_F1Score: 0.7381 - val_loss: 0.0974\n",
      "Epoch 84/100\n",
      "\u001b[1m17/17\u001b[0m \u001b[32m━━━━━━━━━━━━━━━━━━━━\u001b[0m\u001b[37m\u001b[0m \u001b[1m0s\u001b[0m 4ms/step - Accuracy: 0.7384 - F1Score: 0.7050 - loss: 0.1004 - val_Accuracy: 0.8056 - val_F1Score: 0.7763 - val_loss: 0.0967\n",
      "Epoch 85/100\n",
      "\u001b[1m17/17\u001b[0m \u001b[32m━━━━━━━━━━━━━━━━━━━━\u001b[0m\u001b[37m\u001b[0m \u001b[1m0s\u001b[0m 4ms/step - Accuracy: 0.7708 - F1Score: 0.7499 - loss: 0.1064 - val_Accuracy: 0.7778 - val_F1Score: 0.7381 - val_loss: 0.0964\n",
      "Epoch 86/100\n",
      "\u001b[1m17/17\u001b[0m \u001b[32m━━━━━━━━━━━━━━━━━━━━\u001b[0m\u001b[37m\u001b[0m \u001b[1m0s\u001b[0m 4ms/step - Accuracy: 0.7651 - F1Score: 0.7278 - loss: 0.1047 - val_Accuracy: 0.8056 - val_F1Score: 0.7763 - val_loss: 0.0959\n",
      "Epoch 87/100\n",
      "\u001b[1m17/17\u001b[0m \u001b[32m━━━━━━━━━━━━━━━━━━━━\u001b[0m\u001b[37m\u001b[0m \u001b[1m0s\u001b[0m 4ms/step - Accuracy: 0.7567 - F1Score: 0.7411 - loss: 0.1047 - val_Accuracy: 0.8333 - val_F1Score: 0.8120 - val_loss: 0.0953\n",
      "Epoch 88/100\n",
      "\u001b[1m17/17\u001b[0m \u001b[32m━━━━━━━━━━━━━━━━━━━━\u001b[0m\u001b[37m\u001b[0m \u001b[1m0s\u001b[0m 5ms/step - Accuracy: 0.8532 - F1Score: 0.8246 - loss: 0.0970 - val_Accuracy: 0.7778 - val_F1Score: 0.7381 - val_loss: 0.0952\n",
      "Epoch 89/100\n",
      "\u001b[1m17/17\u001b[0m \u001b[32m━━━━━━━━━━━━━━━━━━━━\u001b[0m\u001b[37m\u001b[0m \u001b[1m0s\u001b[0m 5ms/step - Accuracy: 0.8110 - F1Score: 0.8057 - loss: 0.1004 - val_Accuracy: 0.8056 - val_F1Score: 0.7763 - val_loss: 0.0947\n",
      "Epoch 90/100\n",
      "\u001b[1m17/17\u001b[0m \u001b[32m━━━━━━━━━━━━━━━━━━━━\u001b[0m\u001b[37m\u001b[0m \u001b[1m0s\u001b[0m 4ms/step - Accuracy: 0.8228 - F1Score: 0.7993 - loss: 0.1016 - val_Accuracy: 0.8333 - val_F1Score: 0.8120 - val_loss: 0.0941\n",
      "Epoch 91/100\n",
      "\u001b[1m17/17\u001b[0m \u001b[32m━━━━━━━━━━━━━━━━━━━━\u001b[0m\u001b[37m\u001b[0m \u001b[1m0s\u001b[0m 5ms/step - Accuracy: 0.8090 - F1Score: 0.7572 - loss: 0.1030 - val_Accuracy: 0.8333 - val_F1Score: 0.8120 - val_loss: 0.0937\n",
      "Epoch 92/100\n",
      "\u001b[1m17/17\u001b[0m \u001b[32m━━━━━━━━━━━━━━━━━━━━\u001b[0m\u001b[37m\u001b[0m \u001b[1m0s\u001b[0m 4ms/step - Accuracy: 0.7956 - F1Score: 0.7876 - loss: 0.1049 - val_Accuracy: 0.8333 - val_F1Score: 0.8120 - val_loss: 0.0932\n",
      "Epoch 93/100\n",
      "\u001b[1m17/17\u001b[0m \u001b[32m━━━━━━━━━━━━━━━━━━━━\u001b[0m\u001b[37m\u001b[0m \u001b[1m0s\u001b[0m 5ms/step - Accuracy: 0.8675 - F1Score: 0.8628 - loss: 0.0931 - val_Accuracy: 0.8333 - val_F1Score: 0.8120 - val_loss: 0.0929\n",
      "Epoch 94/100\n",
      "\u001b[1m17/17\u001b[0m \u001b[32m━━━━━━━━━━━━━━━━━━━━\u001b[0m\u001b[37m\u001b[0m \u001b[1m0s\u001b[0m 5ms/step - Accuracy: 0.8491 - F1Score: 0.8374 - loss: 0.0925 - val_Accuracy: 0.8333 - val_F1Score: 0.8120 - val_loss: 0.0925\n",
      "Epoch 95/100\n",
      "\u001b[1m17/17\u001b[0m \u001b[32m━━━━━━━━━━━━━━━━━━━━\u001b[0m\u001b[37m\u001b[0m \u001b[1m0s\u001b[0m 5ms/step - Accuracy: 0.8037 - F1Score: 0.8065 - loss: 0.1014 - val_Accuracy: 0.8333 - val_F1Score: 0.8120 - val_loss: 0.0921\n",
      "Epoch 96/100\n",
      "\u001b[1m17/17\u001b[0m \u001b[32m━━━━━━━━━━━━━━━━━━━━\u001b[0m\u001b[37m\u001b[0m \u001b[1m0s\u001b[0m 5ms/step - Accuracy: 0.8456 - F1Score: 0.8420 - loss: 0.0938 - val_Accuracy: 0.8333 - val_F1Score: 0.8120 - val_loss: 0.0918\n",
      "Epoch 97/100\n",
      "\u001b[1m17/17\u001b[0m \u001b[32m━━━━━━━━━━━━━━━━━━━━\u001b[0m\u001b[37m\u001b[0m \u001b[1m0s\u001b[0m 4ms/step - Accuracy: 0.7722 - F1Score: 0.7740 - loss: 0.1079 - val_Accuracy: 0.8333 - val_F1Score: 0.8120 - val_loss: 0.0912\n",
      "Epoch 98/100\n",
      "\u001b[1m17/17\u001b[0m \u001b[32m━━━━━━━━━━━━━━━━━━━━\u001b[0m\u001b[37m\u001b[0m \u001b[1m0s\u001b[0m 4ms/step - Accuracy: 0.8203 - F1Score: 0.7956 - loss: 0.0999 - val_Accuracy: 0.8333 - val_F1Score: 0.8120 - val_loss: 0.0909\n",
      "Epoch 99/100\n",
      "\u001b[1m17/17\u001b[0m \u001b[32m━━━━━━━━━━━━━━━━━━━━\u001b[0m\u001b[37m\u001b[0m \u001b[1m0s\u001b[0m 4ms/step - Accuracy: 0.8612 - F1Score: 0.8374 - loss: 0.0890 - val_Accuracy: 0.8333 - val_F1Score: 0.8120 - val_loss: 0.0906\n",
      "Epoch 100/100\n",
      "\u001b[1m17/17\u001b[0m \u001b[32m━━━━━━━━━━━━━━━━━━━━\u001b[0m\u001b[37m\u001b[0m \u001b[1m0s\u001b[0m 5ms/step - Accuracy: 0.8886 - F1Score: 0.8865 - loss: 0.0910 - val_Accuracy: 0.8333 - val_F1Score: 0.8120 - val_loss: 0.0901\n"
     ]
    },
    {
     "data": {
      "image/png": "[encoded data removed]",
      "text/plain": [
       "<Figure size 640x480 with 1 Axes>"
      ]
     },
     "metadata": {},
     "output_type": "display_data"
    }
   ],
   "source": [
    "model=tf.keras.Sequential([\n",
    "    tf.keras.layers.InputLayer(shape=(x_train.shape[1],)),\n",
    "    tf.keras.layers.Dense(10,activation='relu'),\n",
    "    tf.keras.layers.Dense(y_encoded.shape[1],activation='sigmoid')\n",
    "])\n",
    "\n",
    "model.compile(optimizer='Adam',loss='MeanSquaredError',metrics=['Accuracy','F1Score'])\n",
    "history=model.fit(x_train,y_train,epochs=100,batch_size=5,validation_split=0.3,verbose=1)\n",
    "train_loss=history.history['loss']\n",
    "val_loss=history.history['val_loss']\n",
    "plt.plot(train_loss,label='train loss')\n",
    "plt.plot(val_loss,label='validation loss')\n",
    "plt.show()"
   ]
  },
  {
   "cell_type": "code",
   "execution_count": null,
   "metadata": {},
   "outputs": [],
   "source": [
    "Write your code here"
   ]
  }
 ],
 "metadata": {
  "colab": {
   "collapsed_sections": [],
   "name": "lab-2.ipynb",
   "provenance": []
  },
  "kernelspec": {
   "display_name": "Python 3 (ipykernel)",
   "language": "python",
   "name": "python3"
  },
  "language_info": {
   "codemirror_mode": {
    "name": "ipython",
    "version": 3
   },
   "file_extension": ".py",
   "mimetype": "text/x-python",
   "name": "python",
   "nbconvert_exporter": "python",
   "pygments_lexer": "ipython3",
   "version": "3.12.4"
  }
 },
 "nbformat": 4,
 "nbformat_minor": 4
}
